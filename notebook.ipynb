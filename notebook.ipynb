{
 "cells": [
  {
   "cell_type": "code",
   "execution_count": 1,
   "metadata": {},
   "outputs": [],
   "source": [
    "import os\n",
    "import subprocess"
   ]
  },
  {
   "cell_type": "code",
   "execution_count": 2,
   "metadata": {},
   "outputs": [
    {
     "name": "stdout",
     "output_type": "stream",
     "text": [
      ".git\n",
      "README.md\n",
      "batch_script.sh\n",
      "notebook.ipynb\n",
      "test.py\n"
     ]
    }
   ],
   "source": [
    "cwd = os.getcwd()\n",
    "\n",
    "for item in os.listdir(cwd):\n",
    "    print(item)"
   ]
  },
  {
   "cell_type": "code",
   "execution_count": 2,
   "metadata": {},
   "outputs": [
    {
     "name": "stdout",
     "output_type": "stream",
     "text": [
      "Output: Submitted batch job 4834756\n",
      "\n",
      "Error: sbatch: No max_nodes specified, defaulting to -N 1\n",
      "\n"
     ]
    }
   ],
   "source": [
    "#code to execute batch script\n",
    "\n",
    "# command = \"sbatch < batch_script.sh\"\n",
    "# process = subprocess.Popen(command, shell=True, stdout=subprocess.PIPE, stderr=subprocess.PIPE)\n",
    "# stdout, stderr = process.communicate()\n",
    "# print(f\"Output: {stdout.decode()}\")\n",
    "# if stderr:\n",
    "#     print(f\"Error: {stderr.decode()}\")\n",
    "\n",
    "bash_script_path = \"./climate_test_script.sh\"\n",
    "result = subprocess.run(['bash', bash_script_path], capture_output=True, text=True)\n",
    "print(result.stdout)\n",
    "print(result.stderr)"
   ]
  }
 ],
 "metadata": {
  "kernelspec": {
   "display_name": "Python 3",
   "language": "python",
   "name": "python3"
  },
  "language_info": {
   "codemirror_mode": {
    "name": "ipython",
    "version": 3
   },
   "file_extension": ".py",
   "mimetype": "text/x-python",
   "name": "python",
   "nbconvert_exporter": "python",
   "pygments_lexer": "ipython3",
   "version": "3.9.16"
  }
 },
 "nbformat": 4,
 "nbformat_minor": 2
}
